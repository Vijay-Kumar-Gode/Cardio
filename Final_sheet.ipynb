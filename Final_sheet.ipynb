{
 "cells": [
  {
   "cell_type": "markdown",
   "id": "e70ac682-7f74-42e6-87ab-b95b8f93f5d0",
   "metadata": {},
   "source": [
    "### Do people over 50 have higher cholesterol levels than the rest?"
   ]
  },
  {
   "cell_type": "code",
   "execution_count": 12,
   "id": "acb33b08-ce98-4878-a2a8-ac664d3f9e05",
   "metadata": {},
   "outputs": [
    {
     "name": "stdout",
     "output_type": "stream",
     "text": [
      "114.65526300915967\n"
     ]
    }
   ],
   "source": [
    "import pandas as pd\n",
    "df=pd.read_csv(r\"C:\\Users\\vijay\\OneDrive\\Desktop\\Imp\\cardio_base.csv\")\n",
    "df['age']=df['age']/365\n",
    "df['age']=df['age'].round()\n",
    "df1=df.copy()\n",
    "\n",
    "df['over_50'] = df['age']>50\n",
    "\n",
    "average_cholesterol_by_age = df.groupby('over_50')['cholesterol'].mean()\n",
    "\n",
    "percentage_cholesterol_over_50 = (average_cholesterol_by_age[True] / average_cholesterol_by_age[False]) * 100\n",
    "\n",
    "print(percentage_cholesterol_over_50) # 14% higher than average"
   ]
  },
  {
   "cell_type": "markdown",
   "id": "b7a8403d-3d4e-4502-bf75-35e147d2614c",
   "metadata": {},
   "source": [
    "### Are men more likely to be a smoker than women"
   ]
  },
  {
   "cell_type": "code",
   "execution_count": 5,
   "id": "91199a11-a7ac-4ba8-ab35-f3ed01fd17db",
   "metadata": {},
   "outputs": [
    {
     "name": "stdout",
     "output_type": "stream",
     "text": [
      "No of males: 45530\n",
      "No of females: 24470\n",
      "No of male_smokers: 813\n",
      "No of female_smokers: 5356\n",
      "perc_male_smoker: 1.7856358444981333\n",
      "perc_female_smoker: 21.88802615447487\n"
     ]
    }
   ],
   "source": [
    "df=df1.copy()\n",
    "\n",
    "male_smokers = df[(df['gender'] == 1) & (df['smoke'] == 1)].shape[0]\n",
    "female_smokers = df[(df['gender'] == 2) & (df['smoke'] == 1)].shape[0]\n",
    "\n",
    "male = df[df['gender'] == 1].shape[0]\n",
    "female = df[df['gender'] == 2].shape[0]\n",
    "\n",
    "print('No of males:', male)\n",
    "print('No of females:',female)\n",
    "print('No of male_smokers:',male_smokers)\n",
    "print('No of female_smokers:',female_smokers)\n",
    "\n",
    "perc_male_smoker= (male_smokers/male)*100\n",
    "perc_female_smoker= (female_smokers/female)*100\n",
    "\n",
    "print('perc_male_smoker:',perc_male_smoker)\n",
    "print('perc_female_smoker:',perc_female_smoker) #No, womens are more likely than men"
   ]
  },
  {
   "cell_type": "markdown",
   "id": "bb7fd3bc-da3a-495b-a949-ade40a59e1ae",
   "metadata": {},
   "source": [
    "### How tall are the tallest 1% of people"
   ]
  },
  {
   "cell_type": "code",
   "execution_count": 6,
   "id": "fe39becb-c921-433c-8f8e-88673fa98ec8",
   "metadata": {},
   "outputs": [
    {
     "name": "stdout",
     "output_type": "stream",
     "text": [
      "130840\n",
      "11505146\n",
      "1.1372302446227107\n"
     ]
    }
   ],
   "source": [
    "df=df1.copy()\n",
    "sorted_height = df['height'].sort_values(ascending= False)\n",
    "\n",
    "\n",
    "top_1_percent_count = int(len(sorted_height) * 0.01)\n",
    "\n",
    "# Get the top 1% of values\n",
    "top_1_percent_values = sorted_height.iloc[:top_1_percent_count]\n",
    "\n",
    "top_1_percent_height=top_1_percent_values.sum()\n",
    "print(top_1_percent_height)\n",
    "\n",
    "Total_height=df['height'].sum()\n",
    "print(Total_height)\n",
    "\n",
    "per= (top_1_percent_height/Total_height)*100\n",
    "\n",
    "print(per)"
   ]
  },
  {
   "cell_type": "markdown",
   "id": "bdd2ea9b-9441-4eb8-a4b8-e330728a952f",
   "metadata": {},
   "source": [
    "### What percentage of people are more than 2 standard deviations far from the average height?"
   ]
  },
  {
   "cell_type": "code",
   "execution_count": 7,
   "id": "99f35b0c-c679-4645-8062-7bfc74ab94aa",
   "metadata": {},
   "outputs": [
    {
     "name": "stdout",
     "output_type": "stream",
     "text": [
      "2.0557142857142856\n"
     ]
    }
   ],
   "source": [
    "df=df1.copy()\n",
    "\n",
    "Average_height = df['height'].mean()\n",
    "std_height = df['height'].std()\n",
    "\n",
    "threshold =  Average_height + 2* std_height\n",
    "\n",
    "num_people_exceeding_threshold = df[df['height'] > threshold].shape[0]\n",
    "\n",
    "per=(num_people_exceeding_threshold/df.shape[0])*100\n",
    "\n",
    "print(per)  # 2%"
   ]
  },
  {
   "cell_type": "markdown",
   "id": "7eb5fe40-7ae6-407f-b805-908ba0c61d4f",
   "metadata": {},
   "source": [
    "### How much heavier is the age group with the highest average weight than the age group with the lowest weight?"
   ]
  },
  {
   "cell_type": "code",
   "execution_count": 8,
   "id": "533c51ac-0b34-414a-86b1-a37965ee1bd3",
   "metadata": {},
   "outputs": [
    {
     "ename": "NameError",
     "evalue": "name 'aver_weight' is not defined",
     "output_type": "error",
     "traceback": [
      "\u001b[1;31m---------------------------------------------------------------------------\u001b[0m",
      "\u001b[1;31mNameError\u001b[0m                                 Traceback (most recent call last)",
      "Cell \u001b[1;32mIn[8], line 3\u001b[0m\n\u001b[0;32m      1\u001b[0m df\u001b[38;5;241m=\u001b[39mdf1\u001b[38;5;241m.\u001b[39mcopy()\n\u001b[0;32m      2\u001b[0m df[\u001b[38;5;124m'\u001b[39m\u001b[38;5;124maver_weight\u001b[39m\u001b[38;5;124m'\u001b[39m]\u001b[38;5;241m=\u001b[39m df[\u001b[38;5;124m'\u001b[39m\u001b[38;5;124mweight\u001b[39m\u001b[38;5;124m'\u001b[39m]\u001b[38;5;241m.\u001b[39mmean()\n\u001b[1;32m----> 3\u001b[0m \u001b[38;5;28mprint\u001b[39m(\u001b[43maver_weight\u001b[49m)\n\u001b[0;32m      5\u001b[0m df[\u001b[38;5;124m'\u001b[39m\u001b[38;5;124mmin_weight\u001b[39m\u001b[38;5;124m'\u001b[39m] \u001b[38;5;241m=\u001b[39m df[\u001b[38;5;124m'\u001b[39m\u001b[38;5;124mweight\u001b[39m\u001b[38;5;124m'\u001b[39m]\u001b[38;5;241m.\u001b[39mmin()\n\u001b[0;32m      6\u001b[0m \u001b[38;5;28mprint\u001b[39m(min_weight)\n",
      "\u001b[1;31mNameError\u001b[0m: name 'aver_weight' is not defined"
     ]
    }
   ],
   "source": [
    "df=df1.copy()\n",
    "df['aver_weight']= df['weight'].mean()\n",
    "print(aver_weight)\n",
    "\n",
    "df['min_weight'] = df['weight'].min()\n",
    "print(min_weight)\n",
    "\n",
    "per=(min_weight/aver_weight)*100\n",
    "print(per)"
   ]
  },
  {
   "cell_type": "markdown",
   "id": "7a53b097-956c-430d-9174-8a1c840f2694",
   "metadata": {},
   "source": [
    "### What percentage of the population over 50 years old consume alcohol ?"
   ]
  },
  {
   "cell_type": "code",
   "execution_count": 13,
   "id": "114a8c82-f7e9-48f9-a427-2d9c75de4fd6",
   "metadata": {},
   "outputs": [
    {
     "name": "stdout",
     "output_type": "stream",
     "text": [
      "2.63\n"
     ]
    }
   ],
   "source": [
    "df3=df1.copy()\n",
    "\n",
    "df2=pd.read_csv(r\"C:\\Users\\vijay\\OneDrive\\Desktop\\Imp\\cardio_alco.csv\",delimiter=';')\n",
    "\n",
    "df = pd.merge(df3,df2,on='id',how='left')\n",
    "df['alco'] = df['alco'].fillna(0)\n",
    "\n",
    "Num_alco_over_50 = df[(df['age']>50) & (df['alco'] == 1)].shape[0]\n",
    "\n",
    "per = (Num_alco_over_50/df.shape[0])*100\n",
    "\n",
    "print(per) #2.63\n"
   ]
  },
  {
   "cell_type": "markdown",
   "id": "c990e10f-3746-4a63-a7b4-28fbcb4e1030",
   "metadata": {},
   "source": [
    "### select one answer"
   ]
  },
  {
   "cell_type": "code",
   "execution_count": 14,
   "id": "106b8129-e889-4809-8576-b4a7b5aa98c4",
   "metadata": {},
   "outputs": [
    {
     "data": {
      "text/plain": [
       "Men\n",
       "False    130.078872\n",
       "True     128.139249\n",
       "Name: ap_hi, dtype: float64"
      ]
     },
     "execution_count": 14,
     "metadata": {},
     "output_type": "execute_result"
    }
   ],
   "source": [
    "df = df1.copy()\n",
    "\n",
    "df['smokers']= df['smoke'] == 1\n",
    "\n",
    "avg_weg_smokers = df.groupby('smokers')['weight'].mean()\n",
    "avg_weg_smokers #smokers weight higher than non smokers\n",
    "\n",
    "avg_cholesterol_smokers = df.groupby('smokers')['cholesterol'].mean()\n",
    "avg_cholesterol_smokers  #smokers cholesterol higher than non smokers\n",
    "\n",
    "avg_bp_smokers = df.groupby('smokers')['ap_hi'].mean()\n",
    "avg_bp_smokers  #smokers bp less than non smokers\n",
    "\n",
    "df['Men']= df['gender'] == 1\n",
    "\n",
    "avg_bp_Men = df.groupby('Men')['ap_hi'].mean()\n",
    "avg_bp_Men  #Men bp less than Women"
   ]
  },
  {
   "cell_type": "markdown",
   "id": "d11783e9-f20f-4cac-84e2-2a4f7597f53d",
   "metadata": {},
   "source": [
    "#### When did the difference in the total number of confirmed cases between italy and germany become  more than 10000?"
   ]
  },
  {
   "cell_type": "code",
   "execution_count": 15,
   "id": "06abd3b5-4f9f-4826-a5f5-4ee3b465dfef",
   "metadata": {},
   "outputs": [
    {
     "data": {
      "text/plain": [
       "'2020-03-12'"
      ]
     },
     "execution_count": 15,
     "metadata": {},
     "output_type": "execute_result"
    }
   ],
   "source": [
    "import pandas as pd\n",
    "\n",
    "# Read the CSV file\n",
    "df = pd.read_csv(r\"C:\\Users\\vijay\\OneDrive\\Desktop\\Imp\\covid_data.csv\")\n",
    "\n",
    "# Filter data for Italy and Germany\n",
    "italy_data = df[df['location'] == 'Italy'].reset_index(drop=True)\n",
    "\n",
    "germany_data = df[df['location'] == 'Germany'].reset_index(drop=True)\n",
    "\n",
    "# Calculate cumulative cases for Italy and Germany\n",
    "italy_data['italy_cases'] = italy_data['new_cases'].cumsum()\n",
    "germany_data['germany_cases'] = germany_data['new_cases'].cumsum()\n",
    "\n",
    "# Find the dates when the difference in cumulative cases exceeds 10,000\n",
    "date_threshold = italy_data[italy_data['italy_cases'] - germany_data['germany_cases'] > 10000].reset_index(drop= True)\n",
    "\n",
    "date_threshold['date'][0] #2020-03-12\n"
   ]
  },
  {
   "cell_type": "markdown",
   "id": "b5d6be5f-5835-46db-8db9-023b25278562",
   "metadata": {},
   "source": [
    "### which country has the 3 rd highest death rate?"
   ]
  },
  {
   "cell_type": "code",
   "execution_count": 16,
   "id": "8270267d-5bfa-4411-882b-78947a67ae3b",
   "metadata": {},
   "outputs": [
    {
     "data": {
      "text/plain": [
       "'Brazil'"
      ]
     },
     "execution_count": 16,
     "metadata": {},
     "output_type": "execute_result"
    }
   ],
   "source": [
    "import pandas as pd\n",
    "\n",
    "# Read the CSV file\n",
    "df = pd.read_csv(r\"C:\\Users\\vijay\\OneDrive\\Desktop\\Imp\\covid_data.csv\")\n",
    "\n",
    "# Calculate cumulative cases for Italy and Germany\n",
    "num_death_by_location = df.groupby('location')['new_deaths'].sum()\n",
    "\n",
    "num_death_by_location.sort_values(ascending = False).index[3]\n"
   ]
  },
  {
   "cell_type": "markdown",
   "id": "77994b52-122c-46ed-bff7-41d41b066664",
   "metadata": {},
   "source": [
    "### what is the probability that a country has GDP over $10,000, if we know that they have at least 5 hospital beds per 1000 inhabitants"
   ]
  },
  {
   "cell_type": "code",
   "execution_count": 17,
   "id": "098bd81c-7c6c-4be9-9960-345ef71d1cdd",
   "metadata": {},
   "outputs": [
    {
     "name": "stdout",
     "output_type": "stream",
     "text": [
      "0.9316947699342669\n"
     ]
    }
   ],
   "source": [
    "import pandas as pd\n",
    "\n",
    "# Read the CSV file\n",
    "df = pd.read_csv(r\"C:\\Users\\vijay\\OneDrive\\Desktop\\Imp\\covid_data.csv\")\n",
    "\n",
    "df['Total_GDP']=df['population'] * df['gdp_per_capita']\n",
    "\n",
    "Over_5_df = df[df['hospital_beds_per_thousand']>= 5]\n",
    "\n",
    "num_of_countries_over_5 = Over_5_df[Over_5_df['Total_GDP'] >10000]['location'].count()\n",
    "\n",
    "prop = num_of_countries_over_5/Over_5_df.shape[0]\n",
    "\n",
    "print(prop) #0.93"
   ]
  },
  {
   "cell_type": "code",
   "execution_count": null,
   "id": "537b77e7-d315-4268-adba-d1952e66ab8a",
   "metadata": {},
   "outputs": [],
   "source": [
    "### Look at the cumulative number of confirmed cases in italy between 2020-02-28 and 2020-03-20. Fit an exponential function (y= Aw)"
   ]
  }
 ],
 "metadata": {
  "kernelspec": {
   "display_name": "Python 3 (ipykernel)",
   "language": "python",
   "name": "python3"
  },
  "language_info": {
   "codemirror_mode": {
    "name": "ipython",
    "version": 3
   },
   "file_extension": ".py",
   "mimetype": "text/x-python",
   "name": "python",
   "nbconvert_exporter": "python",
   "pygments_lexer": "ipython3",
   "version": "3.8.18"
  }
 },
 "nbformat": 4,
 "nbformat_minor": 5
}
